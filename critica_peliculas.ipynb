{
 "cells": [
  {
   "cell_type": "code",
   "execution_count": 15,
   "metadata": {},
   "outputs": [
    {
     "name": "stdout",
     "output_type": "stream",
     "text": [
      "   Calificacion  Cantidad de votantes\n",
      "0             5                    42\n",
      "1             4                    96\n",
      "2             3                   132\n",
      "3             2                   124\n",
      "4             1                    88\n",
      "5             0                    58\n"
     ]
    }
   ],
   "source": [
    "import pandas as pd\n",
    "df=pd.DataFrame({\"Calificacion\": [5, 4, 3, 2 ,1 , 0], \"Cantidad de votantes\":[42, 96, 132, 124, 88, 58]})\n",
    "print(df)"
   ]
  },
  {
   "cell_type": "code",
   "execution_count": 20,
   "metadata": {},
   "outputs": [
    {
     "name": "stdout",
     "output_type": "stream",
     "text": [
      "La media es: 2.4555555555555557\n"
     ]
    }
   ],
   "source": [
    "suma_calificaciones=0\n",
    "numero_calificaciones=0\n",
    "for i in range(len(df)):\n",
    "    suma_calificaciones+=df.loc[i, \"Calificacion\"]*df.loc[i, \"Cantidad de votantes\"]\n",
    "    numero_calificaciones+=df.loc[i, \"Cantidad de votantes\"]\n",
    "media=suma_calificaciones/numero_calificaciones\n",
    "print(\"La media es:\", media)\n",
    "\n"
   ]
  },
  {
   "cell_type": "code",
   "execution_count": 22,
   "metadata": {},
   "outputs": [
    {
     "name": "stdout",
     "output_type": "stream",
     "text": [
      "La varianza es: 0.6476401463191588\n"
     ]
    }
   ],
   "source": [
    "for i in range(len(df)):\n",
    "    variaciones=df.loc[i, \"Cantidad de votantes\"]*((media-df.loc[i, \"Calificacion\"])**2)\n",
    "varianza=variaciones/numero_calificaciones\n",
    "print(\"La varianza es:\", varianza)"
   ]
  },
  {
   "cell_type": "code",
   "execution_count": 23,
   "metadata": {},
   "outputs": [
    {
     "name": "stdout",
     "output_type": "stream",
     "text": [
      "La desviación tipica es: 0.8047609249455138\n"
     ]
    }
   ],
   "source": [
    "desviacion_tipica=varianza**(1/2)\n",
    "print(\"La desviación tipica es:\", desviacion_tipica)"
   ]
  }
 ],
 "metadata": {
  "language_info": {
   "name": "python"
  },
  "orig_nbformat": 4
 },
 "nbformat": 4,
 "nbformat_minor": 2
}
