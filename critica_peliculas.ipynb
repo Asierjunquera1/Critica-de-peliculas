{
 "cells": [
  {
   "cell_type": "code",
   "execution_count": 6,
   "metadata": {},
   "outputs": [
    {
     "name": "stdout",
     "output_type": "stream",
     "text": [
      " Califiacion  Cantidad de votantes\n",
      "           5                    42\n",
      "           4                    96\n",
      "           3                   132\n",
      "           2                   124\n",
      "           1                    88\n",
      "           0                    58\n"
     ]
    }
   ],
   "source": [
    "import pandas as pd\n",
    "df=pd.DataFrame({\"Califiacion\": [5, 4, 3, 2 ,1 , 0], \"Cantidad de votantes\":[42, 96, 132, 124, 88, 58]})\n",
    "print(df.to_string(index=False))"
   ]
  }
 ],
 "metadata": {
  "kernelspec": {
   "display_name": "Python 3 (ipykernel)",
   "language": "python",
   "name": "python3"
  },
  "language_info": {
   "codemirror_mode": {
    "name": "ipython",
    "version": 3
   },
   "file_extension": ".py",
   "mimetype": "text/x-python",
   "name": "python",
   "nbconvert_exporter": "python",
   "pygments_lexer": "ipython3",
   "version": "3.10.4"
  },
  "orig_nbformat": 4
 },
 "nbformat": 4,
 "nbformat_minor": 2
}
